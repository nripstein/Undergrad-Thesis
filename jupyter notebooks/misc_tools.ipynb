{
 "cells": [
  {
   "cell_type": "code",
   "execution_count": 50,
   "id": "initial_id",
   "metadata": {
    "collapsed": true,
    "ExecuteTime": {
     "end_time": "2024-01-05T16:07:19.062455Z",
     "start_time": "2024-01-05T16:07:18.407490Z"
    }
   },
   "outputs": [],
   "source": [
    "import pandas as pd\n",
    "import os"
   ]
  },
  {
   "cell_type": "markdown",
   "source": [
    "# Transition df: now in frame_label.ipynb"
   ],
   "metadata": {
    "collapsed": false
   },
   "id": "f5c98f514b9c9e56"
  },
  {
   "cell_type": "code",
   "outputs": [],
   "source": [
    "def transition_dataframe(directory: str, just_num: bool = True, save: bool = False) -> pd.DataFrame:\n",
    "    \"\"\"\n",
    "    Create a Pandas DataFrame with subdirectory names as columns and non-hidden file names, which are changepoints as rows.\n",
    "\n",
    "    Args:\n",
    "        directory (str): The path to the main directory containing \"holding_transitions\"\n",
    "                        and \"not_holding_transitions\" subdirectories.\n",
    "        just_num (bool): If True, index of transition kept, not whole filename\n",
    "        save (bool): if True, saves to directory in file called \"changepoints.csv\"\n",
    "\n",
    "    Returns:\n",
    "        pd.DataFrame: A DataFrame with subdirectory names as columns and non-hidden file names as rows.\n",
    "    \"\"\"\n",
    "    # Initialize an empty dictionary to store data\n",
    "    data = {}\n",
    "\n",
    "    # List of subdirectories to look for\n",
    "    subdirectories = (\"holding_transitions\", \"not_holding_transitions\")\n",
    "\n",
    "    # Iterate through the subdirectories\n",
    "    for subdirectory in subdirectories:\n",
    "        # Get the full path to the subdirectory\n",
    "        subdirectory_path = os.path.join(directory, subdirectory)\n",
    "\n",
    "        # Check if the subdirectory exists\n",
    "        if os.path.exists(subdirectory_path) and os.path.isdir(subdirectory_path):\n",
    "            # List non-hidden files in the subdirectory\n",
    "            files = [f for f in os.listdir(subdirectory_path) if not f.startswith('.')] # avoid hidden files starting with \".\"\n",
    "            if just_num:\n",
    "                files = [int(f.split(\"_\")[0]) for f in files]\n",
    "            \n",
    "            files.sort()\n",
    "            # Add the file names to the data dictionary with subdirectory name as key\n",
    "            data[subdirectory] = files\n",
    "\n",
    "    # Create a DataFrame from the data dictionary\n",
    "    df = pd.DataFrame(data)\n",
    "    \n",
    "    if save:\n",
    "        df.to_csv(directory + \"/changepoints.csv\")\n",
    "        print(\"Saved\")\n",
    "    return df"
   ],
   "metadata": {
    "collapsed": false,
    "ExecuteTime": {
     "end_time": "2024-01-05T16:07:19.579480Z",
     "start_time": "2024-01-05T16:07:19.573309Z"
    }
   },
   "id": "ebf31cc915f0ed89",
   "execution_count": 51
  },
  {
   "cell_type": "code",
   "outputs": [
    {
     "name": "stdout",
     "output_type": "stream",
     "text": [
      "Saved\n"
     ]
    }
   ],
   "source": [
    "df = transition_dataframe(\"/Users/NoahRipstein/Downloads/shafee group stuff/nr labels/all\", True, True)"
   ],
   "metadata": {
    "collapsed": false,
    "ExecuteTime": {
     "end_time": "2024-01-05T16:07:22.349584Z",
     "start_time": "2024-01-05T16:07:22.340545Z"
    }
   },
   "id": "c505d99e04aec13a",
   "execution_count": 52
  },
  {
   "cell_type": "markdown",
   "source": [
    "# visual inspection of video"
   ],
   "metadata": {
    "collapsed": false
   },
   "id": "b36cc347a0487738"
  },
  {
   "cell_type": "code",
   "outputs": [],
   "source": [
    "import cv2\n",
    "import numpy as np\n",
    "from tqdm import tqdm\n",
    "\n",
    "def overlay_changepoints(video_path: str, changepoints: np.ndarray, output_path: str, frame_rate: float = 29.97) -> None:\n",
    "    \"\"\"\n",
    "    Overlay a square with alpha 0.8 in alternating red and green colors based on changepoint frames.\n",
    "\n",
    "    Args:\n",
    "        video_path (str): Path to the input video file.\n",
    "        changepoints (numpy array): Numpy array of integers representing changepoint frames.\n",
    "        output_path (str): Path to save the output video file.\n",
    "        frame_rate (float, optional): Frame rate of the output video. Default is 29.97 fps.\n",
    "\n",
    "    Returns:\n",
    "        None\n",
    "    \"\"\"\n",
    "    cap = cv2.VideoCapture(video_path)\n",
    "    if not cap.isOpened():\n",
    "        print(f\"Error: Unable to open video at {video_path}\")\n",
    "        return\n",
    "\n",
    "    ret, frame = cap.read()\n",
    "    height, width, _ = frame.shape\n",
    "    fourcc = cv2.VideoWriter_fourcc(*'mp4v')\n",
    "    out = cv2.VideoWriter(output_path, fourcc, frame_rate, (width, height))\n",
    "\n",
    "    idx = 0\n",
    "    is_green = False\n",
    "\n",
    "    height, width, _ = frame.shape\n",
    "    total_frames = int(cap.get(cv2.CAP_PROP_FRAME_COUNT))  # for progress bar\n",
    "    with tqdm(total=total_frames) as progress_bar_tqdm:\n",
    "        while ret:\n",
    "            if idx in changepoints:\n",
    "                is_green = not is_green\n",
    "            \n",
    "            # Determine square color based on is_green\n",
    "            square_color = (0, 255, 0) if is_green else (0, 0, 255)  # Green or red (BGR format)\n",
    "    \n",
    "            # Create a square with alpha 0.8\n",
    "            overlay = frame.copy()\n",
    "            \n",
    "            square_size = int(0.15 * width)\n",
    "            x_pos = width - square_size - int(0.1 * width)\n",
    "            y_pos = height - square_size - int(0.1 * height)\n",
    "            alpha = 0.7\n",
    "            cv2.rectangle(overlay, (x_pos, y_pos), (x_pos + square_size, y_pos + square_size), square_color, -1)  # -1 fills the rectangle\n",
    "            cv2.addWeighted(overlay, alpha, frame, 1 - alpha, 0, frame)  # Apply alpha blending\n",
    "            \n",
    "            out.write(frame)\n",
    "            idx += 1\n",
    "            \n",
    "            ret, frame = cap.read()\n",
    "            progress_bar_tqdm.update(1)\n",
    "\n",
    "    cap.release()\n",
    "    out.release()\n",
    "    cv2.destroyAllWindows()\n",
    "    print(\"Done!\")"
   ],
   "metadata": {
    "collapsed": false,
    "ExecuteTime": {
     "end_time": "2023-12-30T20:43:24.153461Z",
     "start_time": "2023-12-30T20:43:24.149972Z"
    }
   },
   "id": "5672967e2c38f597",
   "execution_count": 37
  },
  {
   "cell_type": "markdown",
   "source": [
    "# Make train test split"
   ],
   "metadata": {
    "collapsed": false
   },
   "id": "3b235cdf741a2926"
  },
  {
   "cell_type": "code",
   "outputs": [],
   "source": [
    "import os\n",
    "import shutil\n",
    "import random\n",
    "from tqdm import tqdm\n",
    "\n",
    "def img_classifier_train_test_split(dirs: list[str], split_size: float, output_dir: str = '.', seed: int = None) -> None:\n",
    "    \"\"\"\n",
    "    This function merges images from multiple directories into a train and test split structure.\n",
    "    \n",
    "    Args:\n",
    "        dirs (List[str]): List of directory paths. Each directory should contain 'holding' and 'not_holding' subdirectories.\n",
    "        split_size (float): Fraction of images to be used for training (between 0 and 1).\n",
    "        output_dir (str, optional): Directory to save the 'train_test_split' folder. Defaults to current directory.\n",
    "        seed (int, optional): Seed for random number generator to ensure reproducibility.\n",
    "    \n",
    "    The function creates the following directory structure:\n",
    "    train_test_split\n",
    "    - train\n",
    "      -- holding\n",
    "      -- not_holding\n",
    "    - test\n",
    "      -- holding\n",
    "      -- not_holding\n",
    "    \"\"\"\n",
    "    # Set the seed for reproducibility\n",
    "    if seed is not None:\n",
    "        random.seed(seed)\n",
    "\n",
    "    # Paths for train and test directories\n",
    "    train_path = os.path.join(output_dir, 'train_test_split', 'train')\n",
    "    test_path = os.path.join(output_dir, 'train_test_split', 'test')\n",
    "\n",
    "    # Create the necessary directories\n",
    "    for path in (train_path, test_path):\n",
    "        for category in ('holding', 'not_holding'):\n",
    "            os.makedirs(os.path.join(path, category), exist_ok=True)\n",
    "\n",
    "    # Function to split and copy files\n",
    "    def split_and_copy_files(source_dir: str, train_dir: str, test_dir: str) -> None:\n",
    "        pics = [f for f in os.listdir(source_dir) if f.endswith((\".jpeg\", \".jpg\", \".png\"))] # avoids hidden files\n",
    "        random.shuffle(pics)\n",
    "        train_size = int(len(pics) * split_size)\n",
    "\n",
    "        named_part = \"/\".join(source_dir.split(\"/\")[-2:]) \n",
    "        # Copy files to train and test directories\n",
    "        for i, pic in tqdm(enumerate(pics), total=len(pics), desc=f\"Copying {named_part}\"):\n",
    "            if i < train_size:\n",
    "                shutil.copy(os.path.join(source_dir, pic), train_dir)\n",
    "            else:\n",
    "                shutil.copy(os.path.join(source_dir, pic), test_dir)\n",
    "\n",
    "    # Process each directory in the list\n",
    "    for dir in dirs:\n",
    "        for category in ('holding', 'not_holding'):\n",
    "            source_dir = os.path.join(dir, category)\n",
    "            train_dir = os.path.join(train_path, category)\n",
    "            test_dir = os.path.join(test_path, category)\n",
    "            split_and_copy_files(source_dir, train_dir, test_dir)\n",
    "\n",
    "    print(\"Train-test split created successfully.\")"
   ],
   "metadata": {
    "collapsed": false,
    "ExecuteTime": {
     "end_time": "2024-01-09T22:24:12.183487Z",
     "start_time": "2024-01-09T22:24:12.177378Z"
    }
   },
   "id": "259b7c9ced2a6859",
   "execution_count": 2
  },
  {
   "cell_type": "code",
   "outputs": [
    {
     "name": "stderr",
     "output_type": "stream",
     "text": [
      "Copying sr1/holding: 100%|██████████| 7879/7879 [00:03<00:00, 2529.76it/s]\n",
      "Copying sr1/not_holding: 100%|██████████| 7340/7340 [00:02<00:00, 2517.89it/s]\n",
      "Copying sr2/holding: 100%|██████████| 2060/2060 [00:00<00:00, 2593.09it/s]\n",
      "Copying sr2/not_holding: 100%|██████████| 1912/1912 [00:00<00:00, 2601.34it/s]\n",
      "Copying sr3/holding: 100%|██████████| 6290/6290 [00:02<00:00, 2643.63it/s]\n",
      "Copying sr3/not_holding: 100%|██████████| 5560/5560 [00:02<00:00, 2500.70it/s]\n",
      "Copying sr4/holding: 100%|██████████| 1909/1909 [00:00<00:00, 2356.41it/s]\n",
      "Copying sr4/not_holding: 100%|██████████| 1529/1529 [00:00<00:00, 2388.75it/s]\n",
      "Copying sr_extra1/holding: 0it [00:00, ?it/s]\n",
      "Copying sr_extra1/not_holding: 100%|██████████| 792/792 [00:00<00:00, 2274.40it/s]\n",
      "Copying sr_extra2/holding: 100%|██████████| 1727/1727 [00:00<00:00, 2348.76it/s]\n",
      "Copying sr_extra2/not_holding: 100%|██████████| 148/148 [00:00<00:00, 2292.41it/s]\n",
      "Copying sv1_frames/holding: 100%|██████████| 7687/7687 [00:03<00:00, 2383.13it/s]\n",
      "Copying sv1_frames/not_holding: 100%|██████████| 7335/7335 [00:03<00:00, 2329.04it/s]\n",
      "Copying sv2_frames/holding: 100%|██████████| 1884/1884 [00:00<00:00, 2439.20it/s]\n",
      "Copying sv2_frames/not_holding: 100%|██████████| 1707/1707 [00:00<00:00, 2387.78it/s]\n",
      "Copying sv3_frames/holding: 100%|██████████| 2684/2684 [00:01<00:00, 2342.16it/s]\n",
      "Copying sv3_frames/not_holding: 100%|██████████| 2558/2558 [00:01<00:00, 2450.01it/s]\n",
      "Copying sv4_frames/holding: 100%|██████████| 3481/3481 [00:01<00:00, 2279.89it/s]\n",
      "Copying sv4_frames/not_holding: 100%|██████████| 3382/3382 [00:01<00:00, 2318.32it/s]\n",
      "Copying sv5_frames/holding: 100%|██████████| 1912/1912 [00:00<00:00, 2268.36it/s]\n",
      "Copying sv5_frames/not_holding: 100%|██████████| 1598/1598 [00:00<00:00, 2400.31it/s]\n",
      "Copying sv_extra_frames/holding: 100%|██████████| 1797/1797 [00:00<00:00, 2342.28it/s]\n",
      "Copying sv_extra_frames/not_holding: 100%|██████████| 36/36 [00:00<00:00, 2332.98it/s]\n",
      "Copying all/holding: 100%|██████████| 5816/5816 [00:02<00:00, 2619.10it/s]\n",
      "Copying all/not_holding: 100%|██████████| 8329/8329 [00:03<00:00, 2658.02it/s]"
     ]
    },
    {
     "name": "stdout",
     "output_type": "stream",
     "text": [
      "Train-test split created successfully.\n"
     ]
    },
    {
     "name": "stderr",
     "output_type": "stream",
     "text": [
      "\n"
     ]
    }
   ],
   "source": [
    "base = \"/Users/NoahRipstein/Downloads/shafee group stuff/\"\n",
    "sr = [base + \"sr labels/sr1\", base + \"sr labels/sr2\", base + \"sr labels/sr3\", base + \"sr labels/sr4\", base + \"sr labels/sr_extra1\", base + \"sr labels/sr_extra2\"]\n",
    "sv = [base + \"sv labels/sv1_frames\", base + \"sv labels/sv2_frames\", base + \"sv labels/sv3_frames\", base + \"sv labels/sv4_frames\", base + \"sv labels/sv5_frames\", base + \"sv labels/sv_extra_frames\"]\n",
    "nr = [base + \"nr labels/all\"]\n",
    "\n",
    "sr_sv_nr = sr + sv + nr\n",
    "img_classifier_train_test_split(sr_sv_nr, split_size=0.8, output_dir=\"/Users/NoahRipstein/Downloads/shafee group stuff/sr_sv_nr_train\", seed=42)"
   ],
   "metadata": {
    "collapsed": false,
    "ExecuteTime": {
     "end_time": "2024-01-09T22:24:51.972525Z",
     "start_time": "2024-01-09T22:24:15.730370Z"
    }
   },
   "id": "21e7bfa9e59b90a2",
   "execution_count": 3
  },
  {
   "cell_type": "code",
   "outputs": [
    {
     "name": "stdout",
     "output_type": "stream",
     "text": [
      "7951\n",
      "7401\n",
      "1988\n",
      "1851\n"
     ]
    }
   ],
   "source": [
    "print(len(os.listdir(\"/Users/NoahRipstein/Downloads/shafee group stuff/sr labels/train_test_split/train/holding\")))\n",
    "print(len(os.listdir(\"/Users/NoahRipstein/Downloads/shafee group stuff/sr labels/train_test_split/train/not_holding\")))\n",
    "\n",
    "print(len(os.listdir(\"/Users/NoahRipstein/Downloads/shafee group stuff/sr labels/train_test_split/test/holding\")))\n",
    "print(len(os.listdir(\"/Users/NoahRipstein/Downloads/shafee group stuff/sr labels/train_test_split/test/not_holding\")))"
   ],
   "metadata": {
    "collapsed": false,
    "ExecuteTime": {
     "end_time": "2024-01-02T01:20:17.432958Z",
     "start_time": "2024-01-02T01:20:17.415847Z"
    }
   },
   "id": "16eccbd39c60381e",
   "execution_count": 16
  },
  {
   "cell_type": "markdown",
   "source": [
    "# RENAME TOOL"
   ],
   "metadata": {
    "collapsed": false
   },
   "id": "532dc9df40718f7a"
  },
  {
   "cell_type": "code",
   "outputs": [],
   "source": [
    "def rename_files(directory: str, suffix: str) -> None:\n",
    "    \"\"\"\n",
    "    Rename and move JPEG files from a specified directory to an 'output_folder' in its parent directory.\n",
    "    \n",
    "    Used for when frames have been extarcted but have some suffix problem like unclear naming or an extra underscore\n",
    "\n",
    "    This function iterates over all files in the given directory. For each file with a '.jpg' extension,\n",
    "    it extracts the number part of the filename (before the first underscore), creates a new filename\n",
    "    in the format 'x_srextra2.jpg', and then moves and renames this file to the 'output_folder'.\n",
    "    The 'output_folder' is created in the parent directory of the specified directory if it doesn't already exist.\n",
    "\n",
    "    Args:\n",
    "        directory (str): The path to the directory containing the files to be renamed and moved.\n",
    "\n",
    "    Returns:\n",
    "        None: The function doesn't return anything but renames and moves files.\n",
    "\n",
    "    Example:\n",
    "        >>> rename_files(\"/path/to/directory\")\n",
    "        This will rename all '.jpg' files in '/path/to/directory' and move them to '/path/to/output_folder'.\n",
    "    \"\"\"\n",
    "\n",
    "    # Create the output folder if it doesn't exist\n",
    "    output_folder = os.path.join(os.path.dirname(directory), \"output_folder\")\n",
    "    if not os.path.exists(output_folder):\n",
    "        os.makedirs(output_folder)\n",
    "\n",
    "    # List and process all files in the directory\n",
    "    for filename in os.listdir(directory):\n",
    "        if filename.endswith(\".jpg\"):\n",
    "            # Extract the number part of the filename\n",
    "            number = filename.split(\"_\")[0]\n",
    "            # Construct the new filename\n",
    "            new_filename = f\"{number}_{suffix}.jpg\"\n",
    "            # Full path for the source and destination files\n",
    "            src = os.path.join(directory, filename)\n",
    "            dest = os.path.join(output_folder, new_filename)\n",
    "            # Rename and move the file to the output folder\n",
    "            os.rename(src, dest)\n",
    "\n",
    "\n",
    "rename_files(\"/Users/NoahRipstein/Downloads/shafee group stuff/sv labels/sv_extra_frames/frames\", suffix=\"svextra\")\n",
    "# This will rename and move all the files in the specified directory to the output_folder in the parent directory."
   ],
   "metadata": {
    "collapsed": false,
    "ExecuteTime": {
     "end_time": "2024-01-05T04:24:37.460548Z",
     "start_time": "2024-01-05T04:24:37.289886Z"
    }
   },
   "id": "77feb3967f63b86b",
   "execution_count": 31
  },
  {
   "cell_type": "markdown",
   "source": [
    "# Rename tool just for NR frames"
   ],
   "metadata": {
    "collapsed": false
   },
   "id": "90809d0574b374c1"
  },
  {
   "cell_type": "code",
   "outputs": [],
   "source": [
    "def rename_files_nr(directory: str, suffix: str) -> None:\n",
    "    # Create the output folder if it doesn't exist\n",
    "    output_folder = os.path.join(os.path.dirname(directory), \"output_folder\")\n",
    "    if not os.path.exists(output_folder):\n",
    "        os.makedirs(output_folder)\n",
    "\n",
    "    # List and process all files in the directory\n",
    "    for filename in os.listdir(directory):\n",
    "        if filename.endswith(\".jpg\"):\n",
    "            # Extract the number part of the filename\n",
    "            number = int(os.path.splitext(filename.split(\"_\")[1])[0])\n",
    "            # Construct the new filename\n",
    "            new_filename = f\"{number}_{suffix}.jpg\"\n",
    "            # Full path for the source and destination files\n",
    "            src = os.path.join(directory, filename)\n",
    "            dest = os.path.join(output_folder, new_filename)\n",
    "            # Rename and move the file to the output folder\n",
    "            os.rename(src, dest)\n",
    "\n",
    "# how to use:\n",
    "# rename_files_nr(\"/Users/NoahRipstein/Downloads/shafee group stuff/nr_frames/holding\", suffix=\"nr\")"
   ],
   "metadata": {
    "collapsed": false,
    "ExecuteTime": {
     "end_time": "2024-01-05T04:35:33.082783Z",
     "start_time": "2024-01-05T04:35:32.523799Z"
    }
   },
   "id": "c78bd469484871cb",
   "execution_count": 40
  },
  {
   "cell_type": "markdown",
   "source": [
    "## add transition frames for NR\n",
    "\n",
    "I want to make a python function according to the following specification:\n",
    "\n",
    "I have a directory which contains folders called \"holding\" and \"not_holding\". both folders contain pngs with filenames of this format: \"x_nr.png\" where x is an integer. \"not_holding\" has 1_nr.png, 2_nr.png, 3_nr.png, ..., 22_nr.png. \"holding\" has 23_nr.png, 24_nr.png, 25_nr.png, ... 498_nr.png, then \"not_holding\" has 499_nr.png, 500_nr.png. This pattern continues, where they go back and fourth. I want to identify all of the jumps in numbers, and to copy them to a different file. So for example."
   ],
   "metadata": {
    "collapsed": false
   },
   "id": "acefa44ecd53707f"
  },
  {
   "cell_type": "code",
   "outputs": [
    {
     "name": "stdout",
     "output_type": "stream",
     "text": [
      "Copied 48 files to /Users/NoahRipstein/Downloads/shafee group stuff/nr_frames/output_folder_trns\n"
     ]
    }
   ],
   "source": [
    "import os\n",
    "import shutil\n",
    "import re\n",
    "\n",
    "def copy_transition_files(input_dir: str):\n",
    "    \"\"\"Make transition frame folders if there are labeled frames but no identified transition frames\n",
    "\n",
    "    This function scans a specified directory for PNG files named in the format\n",
    "    \"x_nr.png\", where x is an integer. It identifies files where 'x' represents\n",
    "    the lowest number following a numerical jump in the sequence of filenames.\n",
    "    These identified files are then copied to an 'output_folder_trns' directory,\n",
    "    which is created in the parent directory of the provided input directory.\n",
    "\n",
    "    Args:\n",
    "        input_dir (str): A path to the directory containing the target PNG files.\n",
    "\n",
    "    Raises:\n",
    "        FileNotFoundError: If the input directory does not exist or is invalid.\n",
    "        OSError: For issues related to file reading, writing, or permissions.\n",
    "\n",
    "    Example:\n",
    "        >>> copy_jump_files('/path/to/your/directory')\n",
    "        This will copy files like '499_nr.png' from the specified directory to\n",
    "        '/path/to/output_folder_trns', assuming '499_nr.png' is a file right\n",
    "        after a numerical jump in the sequence.\n",
    "\n",
    "    Note:\n",
    "        - The function assumes the input directory exists and contains PNG files.\n",
    "        - The output directory 'output_folder_trns' is created if it does not\n",
    "          already exist in the parent directory of 'input_dir'.\n",
    "        - Files are identified and sorted based on the integer 'x' in their names.\n",
    "          The function expects filenames to strictly follow the 'x_nr.png' format.\n",
    "        - Only files that are directly after a numerical jump (e.g., from '22_nr.png'\n",
    "          to '499_nr.png') are copied.\n",
    "    \"\"\"\n",
    "    # Check if the output folder exists; if not, create it\n",
    "    output_dir = os.path.join(os.path.dirname(input_dir), 'output_folder_trns')\n",
    "    if not os.path.exists(output_dir):\n",
    "        os.makedirs(output_dir)\n",
    "\n",
    "    # Regular expression to extract the number from filenames\n",
    "    pattern = re.compile(r\"(\\d+)_nr\\.jpg\")\n",
    "\n",
    "    # List all png files in the directory\n",
    "    files = [f for f in os.listdir(input_dir) if f.endswith('.jpg')]\n",
    "\n",
    "    # Extract numbers and sort them\n",
    "    numbers = sorted([int(pattern.search(f).group(1)) for f in files if pattern.search(f)])\n",
    "\n",
    "    # Find the lowest number after each jump\n",
    "    jump_numbers = [numbers[0]]\n",
    "    for i in range(1, len(numbers)):\n",
    "        if numbers[i] - numbers[i-1] > 1:\n",
    "            jump_numbers.append(numbers[i])\n",
    "\n",
    "    # Copy files with identified numbers to the output directory\n",
    "    for num in jump_numbers:\n",
    "        filename = f\"{num}_nr.jpg\"\n",
    "        shutil.copy2(os.path.join(input_dir, filename), output_dir)\n",
    "\n",
    "    print(f\"Copied {len(jump_numbers)} files to {output_dir}\")\n",
    "\n",
    "copy_transition_files(\"/Users/NoahRipstein/Downloads/shafee group stuff/nr_frames/holding\")"
   ],
   "metadata": {
    "collapsed": false,
    "ExecuteTime": {
     "end_time": "2024-01-05T14:54:37.761686Z",
     "start_time": "2024-01-05T14:54:37.719386Z"
    }
   },
   "id": "2c10a725184b36b9",
   "execution_count": 48
  },
  {
   "cell_type": "markdown",
   "source": [
    "# check corrupted images in train test"
   ],
   "metadata": {
    "collapsed": false
   },
   "id": "f0909691f708fe13"
  },
  {
   "cell_type": "code",
   "outputs": [
    {
     "name": "stdout",
     "output_type": "stream",
     "text": [
      "Number of bad files in training set: 0\n",
      "Bad files in training set: []\n",
      "Number of bad files in validation set: 0\n",
      "Bad files in validation set: []\n"
     ]
    }
   ],
   "source": [
    "from PIL import Image\n",
    "import os\n",
    "\n",
    "train_dir = \"/Users/NoahRipstein/Downloads/shafee group stuff/sr_sv_nr_train/train_test_split/train\"\n",
    "valid_dir = \"/Users/NoahRipstein/Downloads/shafee group stuff/sr_sv_nr_train/train_test_split/test\"\n",
    "\n",
    "\n",
    "def test_load_images(image_dir):\n",
    "    bad_files = []\n",
    "    for subdir, dirs, files in os.walk(image_dir):\n",
    "        for file in files:\n",
    "            try:\n",
    "                img_path = os.path.join(subdir, file)\n",
    "                img = Image.open(img_path)\n",
    "                img.verify()  # Verify if it's an image\n",
    "            except (IOError, SyntaxError):\n",
    "                bad_files.append(img_path)  # Add the path of the bad file to the list\n",
    "    return bad_files\n",
    "\n",
    "# Example of how to use the function\n",
    "bad_train_files = test_load_images(train_dir)\n",
    "bad_valid_files = test_load_images(valid_dir)\n",
    "\n",
    "print(\"Number of bad files in training set:\", len(bad_train_files))\n",
    "print(\"Bad files in training set:\", bad_train_files)\n",
    "\n",
    "print(\"Number of bad files in validation set:\", len(bad_valid_files))\n",
    "print(\"Bad files in validation set:\", bad_valid_files)"
   ],
   "metadata": {
    "collapsed": false,
    "ExecuteTime": {
     "end_time": "2024-01-10T20:43:32.158916Z",
     "start_time": "2024-01-10T20:43:32.151088Z"
    }
   },
   "id": "d2cbcf0a1eed3286",
   "execution_count": 2
  }
 ],
 "metadata": {
  "kernelspec": {
   "display_name": "Python 3",
   "language": "python",
   "name": "python3"
  },
  "language_info": {
   "codemirror_mode": {
    "name": "ipython",
    "version": 2
   },
   "file_extension": ".py",
   "mimetype": "text/x-python",
   "name": "python",
   "nbconvert_exporter": "python",
   "pygments_lexer": "ipython2",
   "version": "2.7.6"
  }
 },
 "nbformat": 4,
 "nbformat_minor": 5
}
