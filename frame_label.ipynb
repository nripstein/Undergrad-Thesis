{
 "cells": [
  {
   "cell_type": "code",
   "execution_count": 112,
   "id": "initial_id",
   "metadata": {
    "collapsed": true,
    "ExecuteTime": {
     "end_time": "2023-10-12T18:38:03.947415Z",
     "start_time": "2023-10-12T18:38:03.944189Z"
    }
   },
   "outputs": [],
   "source": [
    "import cv2\n",
    "import os\n",
    "import shutil\n",
    "from tqdm import tqdm\n",
    "from collections.abc import Generator"
   ]
  },
  {
   "cell_type": "markdown",
   "source": [
    "# START EXTRACTING FRAMES"
   ],
   "metadata": {
    "collapsed": false
   },
   "id": "7f7b036d3f8ed26a"
  },
  {
   "cell_type": "code",
   "execution_count": 109,
   "outputs": [],
   "source": [
    "def extract_frames(video_path: str, output_folder: str) -> None:\n",
    "    \"\"\"\n",
    "    Extract frames from a video and save them as image files.\n",
    "\n",
    "    Args:\n",
    "        video_path (str): The path to the input video file.\n",
    "        output_folder (str): The path to the folder where extracted frames will be saved.\n",
    "\n",
    "    Returns:\n",
    "        None\n",
    "\n",
    "    This function takes an input video file and extracts its frames, saving each frame as a separate\n",
    "    image file in the specified output folder. The image files are named sequentially, starting from\n",
    "    'frame_0.jpg' and incrementing for each subsequent frame.\n",
    "    \"\"\"\n",
    "    # Ensure that the output folder exists; create it if it doesn't.\n",
    "    if not os.path.exists(output_folder):\n",
    "        os.makedirs(output_folder)\n",
    "\n",
    "    # Open the video file for reading.\n",
    "    cap = cv2.VideoCapture(video_path)\n",
    "    \n",
    "    # Initialize a counter to keep track of the frame number.\n",
    "    frame_count = 0\n",
    "    \n",
    "    # Split the tail again to get the second-to-last element\n",
    "    path_components = output_folder.split(\"/\")\n",
    "    if len(path_components) >= 2:\n",
    "        if path_components[-1] == \"\":\n",
    "            suffix = path_components[-3]\n",
    "        else:\n",
    "            suffix = path_components[-2]\n",
    "        print(f\"suffix: {suffix}\")\n",
    "    else:\n",
    "        raise KeyError(\"Path does not contain a second last element.\")\n",
    "    \n",
    "    # Loop through the video frames until there are no more frames to read.\n",
    "    while True:\n",
    "        ret, frame = cap.read()\n",
    "        \n",
    "        # If there are no more frames, break out of the loop.\n",
    "        if not ret:\n",
    "            break\n",
    "        \n",
    "        # Define the path to save the current frame as an image file.\n",
    "        frame_path = os.path.join(output_folder, f'{frame_count}_{suffix}.jpg')\n",
    "        \n",
    "        # Save the current frame as an image file.\n",
    "        cv2.imwrite(frame_path, frame)\n",
    "        \n",
    "        # Increment the frame count for the next frame.\n",
    "        frame_count += 1\n",
    "\n",
    "    # Release the video file.\n",
    "    cap.release()"
   ],
   "metadata": {
    "collapsed": false,
    "ExecuteTime": {
     "end_time": "2023-10-12T18:19:10.192909Z",
     "start_time": "2023-10-12T18:19:10.185995Z"
    }
   },
   "id": "af2b3156f3c9b529"
  },
  {
   "cell_type": "code",
   "execution_count": 110,
   "outputs": [
    {
     "name": "stdout",
     "output_type": "stream",
     "text": [
      "suffix: 1239c\n"
     ]
    },
    {
     "data": {
      "text/plain": "4443"
     },
     "execution_count": 110,
     "metadata": {},
     "output_type": "execute_result"
    }
   ],
   "source": [
    "output_dir = \"media/1239c/frames/\"\n",
    "extract_frames(\"media/GOPR1239c_flip.mp4\", output_dir)\n",
    "len(os.listdir(output_dir))"
   ],
   "metadata": {
    "collapsed": false,
    "ExecuteTime": {
     "end_time": "2023-10-12T18:19:19.051720Z",
     "start_time": "2023-10-12T18:19:12.187108Z"
    }
   },
   "id": "de36a7d9a13681aa"
  },
  {
   "cell_type": "markdown",
   "source": [
    "# END EXTRACTING FRAMES"
   ],
   "metadata": {
    "collapsed": false
   },
   "id": "903a173444436850"
  },
  {
   "cell_type": "markdown",
   "source": [
    "# Given transition frames, label everything between"
   ],
   "metadata": {
    "collapsed": false
   },
   "id": "a29e8ef11399baf2"
  },
  {
   "cell_type": "markdown",
   "source": [
    "## How to use:\n",
    "- extract frames into folder in desired directory called \"frames\"\n",
    "- label transition frames in folders called \"holding_transitions\" and \"not_holding_transitions\" in same directory\n",
    "- these transition frames are \"firsts\" i.e. first frame in a row with contact or without\n",
    "- set base_dir to the directory containing the three folders"
   ],
   "metadata": {
    "collapsed": false
   },
   "id": "915a93362e1f3275"
  },
  {
   "cell_type": "code",
   "execution_count": 113,
   "outputs": [],
   "source": [
    "def move_files_in_range(source_dir: str, destination_dir: str, start: int, end: int, suffix: str) -> None:\n",
    "    \"\"\"\n",
    "    Move files with names in a specific numeric range from the source directory to the destination directory.\n",
    "\n",
    "    Args:\n",
    "        source_dir (str): The source directory containing the files to move.\n",
    "        destination_dir (str): The destination directory where files will be moved to.\n",
    "        start (int): The start of the numeric range (inclusive).\n",
    "        end (int): The end of the numeric range (exclusive).\n",
    "        suffix (str): Suffix: like 1238c.jpg\n",
    "    \"\"\"\n",
    "    # make sure min and max are in right order\n",
    "    tmp = start\n",
    "    start = min(start, end)\n",
    "    end = max(tmp, end)\n",
    "    \n",
    "    files_to_move = []\n",
    "    for file_num in range(start, end):\n",
    "        files_to_move.append(str(file_num) + \"_\" + suffix)\n",
    "\n",
    "    for filename in files_to_move:\n",
    "        source_path = os.path.join(source_dir, filename)\n",
    "        destination_path = os.path.join(destination_dir, filename)\n",
    "        shutil.copy(source_path, destination_path)\n",
    "\n",
    "\n",
    "def create_pairs(hold: list[str], not_hold: list[str]) -> Generator[str, str]:\n",
    "    \"\"\"\n",
    "    Generate pairs of filenames indicating transition points for holding actions.\n",
    "\n",
    "    This function creates pairs of filenames from the hold and not-hold lists, representing the \n",
    "    start and end points of holding and not-holding actions. It is designed to manage frames from \n",
    "    a video where an object is repeatedly picked up and put down.\n",
    "\n",
    "    Args:\n",
    "        hold (list[str]): A list of filenames indicating the start of a holding action, sorted by frame order.\n",
    "        not_hold (list[str]): A list of filenames indicating the start of a not-holding action, sorted by frame order.\n",
    "\n",
    "    Yields:\n",
    "        tuple[str, str]: A pair of filenames (start_frame, end_frame) indicating the transition points for holding actions.\n",
    "\n",
    "    Example:\n",
    "        Given lists: \n",
    "        hold = ['446_1238c.jpg', '2072_1238c.jpg']\n",
    "        not_hold = ['897_1238c.jpg', '2785_1238c.jpg']\n",
    "        This function will yield:\n",
    "        ('0_anything.jpg', '446_1238c.jpg'), ('446_1238c.jpg', '897_1238c.jpg'),\n",
    "        ('897_1238c.jpg', '2072_1238c.jpg'), ('2072_1238c.jpg', '2785_1238c.jpg')\n",
    "    \"\"\"\n",
    "    # Starting with a dummy filename to pair with the first holding action\n",
    "    previous = '0_anything.jpg'  \n",
    "    \n",
    "    # Iterate over each start and end frame simultaneously\n",
    "    for start, end in zip(hold, not_hold):\n",
    "        # Yield the pair: (previous, start of contact)\n",
    "        yield previous, start\n",
    "\n",
    "        # Yield the pair: (start of holding, start of non-contact)\n",
    "        yield start, end\n",
    "        \n",
    "        # Update the 'previous' variable for the next iteration\n",
    "        previous = end\n",
    "\n",
    "\n",
    "\n",
    "def move_frames_from_transitions(whole_dir: str, hold_template_dir: str, not_hold_template_dir: str, base_dir: str) -> None:\n",
    "    \"\"\"\n",
    "    Move frames between transition points to appropriate holding or not-holding directories.\n",
    "    \n",
    "    This function is designed to manage frames from a video where an object is repeatedly picked up and\n",
    "    put down. It uses the provided template directories to determine the start and end frames of each \n",
    "    transition and then moves the frames to the appropriate output directories.\n",
    "    \n",
    "    Args:\n",
    "        whole_dir (str): The directory containing all frames to be sorted.\n",
    "        hold_template_dir (str): Directory containing labeled frames indicating the start of contact.\n",
    "        not_hold_template_dir (str): Directory containing labeled frames indicating the start non-contact.\n",
    "        base_dir (str): The base directory where the sorted frames will be moved to.\n",
    "    \n",
    "    Note:\n",
    "        The function expects filenames in the format of \"xxxx_suffix.jpg\", where xxxx is a numeric part.\n",
    "        The suffix is used to filter and move the right files. The suffix is determined based on the files \n",
    "        in the hold_template_dir.\n",
    "    \"\"\"\n",
    "    \n",
    "    # Get all template files from the hold and not-hold directories, sorted by their numeric prefix.\n",
    "    hold_template_files = sorted(os.listdir(hold_template_dir), key=lambda name: int(name.split(\"_\")[0]))\n",
    "    not_hold_template_files = sorted(os.listdir(not_hold_template_dir), key=lambda name: int(name.split(\"_\")[0]))\n",
    "    \n",
    "    # Extract the suffix (with the file extension) from the first hold template file to use as a filter.\n",
    "    suffix = hold_template_files[0].split(\"_\")[-1]\n",
    "    \n",
    "    # Define the output directories for holding and not-holding frames.\n",
    "    output_holding = os.path.join(base_dir, \"holding\")\n",
    "    output_not_holding = os.path.join(base_dir, \"not_holding\")\n",
    "    \n",
    "    # Create the output directories if they do not exist.\n",
    "    os.makedirs(output_holding, exist_ok=True)\n",
    "    os.makedirs(output_not_holding, exist_ok=True)\n",
    "    \n",
    "    # Initialize the holding flag. We start with the assumption that the first frames are not holding.\n",
    "    holding = False  \n",
    "    \n",
    "    # Process each pair of start and end frames.\n",
    "    with tqdm(total=len(hold_template_files) + len(not_hold_template_files) + 1) as progress_bar:\n",
    "        for start, end in create_pairs(hold_template_files, not_hold_template_files):\n",
    "            # Choose the appropriate output directory based on the holding flag.\n",
    "            if holding:\n",
    "                current_output_dir = output_holding\n",
    "            else:\n",
    "                current_output_dir = output_not_holding\n",
    "            \n",
    "            # Move the frames that fall between the current start and end points to the chosen directory.\n",
    "            move_files_in_range(whole_dir, current_output_dir, int(start.split('_')[0]), int(end.split('_')[0]), suffix)\n",
    "            \n",
    "            # Toggle the holding flag for the next iteration.\n",
    "            holding = not holding  \n",
    "            \n",
    "            # Update the progress bar.\n",
    "            progress_bar.update(1)\n",
    "\n",
    "        # After all pairs are processed, handle the frames after the last transition point.\n",
    "        last_file_number = int(sorted(os.listdir(hold_template_dir), key=lambda name: int(name.split(\"_\")[0]))[-1].split(\"_\")[0])\n",
    "        move_files_in_range(whole_dir, current_output_dir, int(end.split('_')[0]), last_file_number, suffix)\n",
    "        progress_bar.update(1)\n",
    "        "
   ],
   "metadata": {
    "collapsed": false,
    "ExecuteTime": {
     "end_time": "2023-10-12T18:38:06.513940Z",
     "start_time": "2023-10-12T18:38:06.512100Z"
    }
   },
   "id": "43d66f45de33924d"
  },
  {
   "cell_type": "code",
   "execution_count": 114,
   "outputs": [
    {
     "name": "stderr",
     "output_type": "stream",
     "text": [
      "100%|██████████| 11/11 [00:01<00:00,  8.81it/s]\n"
     ]
    }
   ],
   "source": [
    "base_dir = \"./media/1239c/\"\n",
    "move_frames_from_transitions(base_dir + \"frames\", base_dir + \"holding_transitions\", base_dir + \"not_holding_transitions\", base_dir)"
   ],
   "metadata": {
    "collapsed": false,
    "ExecuteTime": {
     "end_time": "2023-10-12T18:38:14.136284Z",
     "start_time": "2023-10-12T18:38:12.882764Z"
    }
   },
   "id": "909f10fbdbf387d4"
  }
 ],
 "metadata": {
  "kernelspec": {
   "display_name": "Python 3",
   "language": "python",
   "name": "python3"
  },
  "language_info": {
   "codemirror_mode": {
    "name": "ipython",
    "version": 2
   },
   "file_extension": ".py",
   "mimetype": "text/x-python",
   "name": "python",
   "nbconvert_exporter": "python",
   "pygments_lexer": "ipython2",
   "version": "2.7.6"
  }
 },
 "nbformat": 4,
 "nbformat_minor": 5
}
